{
 "cells": [
  {
   "cell_type": "code",
   "execution_count": 42,
   "metadata": {},
   "outputs": [],
   "source": [
    "import csv\n",
    "\n",
    "prices = {}\n",
    "\n",
    "with open(r'C:\\Program Files\\Git\\Homework\\02-Python\\python-homework\\PyBank\\Resources\\budget_data.csv') as dataFile:\n",
    "    rows = csv.reader(dataFile)\n",
    "    \n",
    "    # skip the first row\n",
    "    next(rows) \n",
    "\n",
    "    for date, price in rows:\n",
    "        prices[date] = int(price)        \n",
    "        \n",
    "# print(prices)\n",
    "\n",
    "count = len(prices)\n",
    "total = sum(prices.values())\n",
    "avg_price = round((total / count), 2)\n",
    "max_price_date = max(prices, key = lambda k: prices[k])\n",
    "max_price_value = max(prices.values())\n",
    "min_price_date = min(prices, key = lambda k: prices[k])\n",
    "min_price_value = min(prices.values())\n"
   ]
  },
  {
   "cell_type": "code",
   "execution_count": 43,
   "metadata": {},
   "outputs": [
    {
     "name": "stdout",
     "output_type": "stream",
     "text": [
      "Financial Analysis\n",
      "----------------------------\n",
      "Total Months: 86\n",
      "Total: $38382578\n",
      "Average  Change: $446309.05\n",
      "Greatest Increase in Profits: Feb-2012 ($1170593)\n",
      "Greatest Decrease in Profits: Sep-2013 ($-1196225)\n"
     ]
    }
   ],
   "source": [
    "print(\"Financial Analysis\")\n",
    "print(\"----------------------------\")\n",
    "print(f\"Total Months: {count}\")\n",
    "print(f\"Total: ${total}\")\n",
    "print(f\"Average  Change: ${avg_price}\")\n",
    "print(f\"Greatest Increase in Profits: {max_price_date} (${max_price_value})\")\n",
    "print(f\"Greatest Decrease in Profits: {min_price_date} (${min_price_value})\")"
   ]
  },
  {
   "cell_type": "code",
   "execution_count": null,
   "metadata": {},
   "outputs": [],
   "source": []
  }
 ],
 "metadata": {
  "kernelspec": {
   "display_name": "Python 3",
   "language": "python",
   "name": "python3"
  },
  "language_info": {
   "codemirror_mode": {
    "name": "ipython",
    "version": 3
   },
   "file_extension": ".py",
   "mimetype": "text/x-python",
   "name": "python",
   "nbconvert_exporter": "python",
   "pygments_lexer": "ipython3",
   "version": "3.7.7"
  }
 },
 "nbformat": 4,
 "nbformat_minor": 4
}
