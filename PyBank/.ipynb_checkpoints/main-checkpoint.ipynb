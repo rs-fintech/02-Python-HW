{
 "cells": [
  {
   "cell_type": "code",
   "execution_count": 65,
   "metadata": {},
   "outputs": [],
   "source": [
    "import csv\n",
    "\n",
    "prices = {}\n",
    "\n",
    "with open(r'Resources/budget_data.csv') as dataFile:\n",
    "    rows = csv.reader(dataFile)\n",
    "    \n",
    "    # skip the first row\n",
    "    next(rows) \n",
    "\n",
    "    for date, price in rows:\n",
    "        prices[date] = int(price)        \n",
    "        \n",
    "# print(prices)\n",
    "count = len(prices)\n",
    "total = sum(prices.values())\n",
    "avg_price = round((total / count), 2)\n",
    "max_price_date = max(prices, key = lambda k: prices[k])\n",
    "max_price_value = max(prices.values())\n",
    "min_price_date = min(prices, key = lambda k: prices[k])\n",
    "min_price_value = min(prices.values())"
   ]
  },
  {
   "cell_type": "code",
   "execution_count": 66,
   "metadata": {},
   "outputs": [],
   "source": [
    "output = \"---------------------------- \\n\"\n",
    "output += \"Financial Analysis \\n\"\n",
    "output += \"---------------------------- \\n\"\n",
    "output += f\"Total Months: {count} \\n\"\n",
    "output += f\"Total: ${total} \\n\"\n",
    "output += f\"Average  Change: ${avg_price} \\n\"\n",
    "output += f\"Greatest Increase in Profits: {max_price_date} (${max_price_value}) \\n\"\n",
    "output += f\"Greatest Decrease in Profits: {min_price_date} (${min_price_value}) \\n\"\n",
    "#print(output)\n",
    "\n",
    "with open('Resources/output.txt', 'w') as outputFile:\n",
    "    outputFile.write(output) \n",
    "    outputFile.close() "
   ]
  },
  {
   "cell_type": "code",
   "execution_count": null,
   "metadata": {},
   "outputs": [],
   "source": []
  }
 ],
 "metadata": {
  "kernelspec": {
   "display_name": "Python 3",
   "language": "python",
   "name": "python3"
  },
  "language_info": {
   "codemirror_mode": {
    "name": "ipython",
    "version": 3
   },
   "file_extension": ".py",
   "mimetype": "text/x-python",
   "name": "python",
   "nbconvert_exporter": "python",
   "pygments_lexer": "ipython3",
   "version": "3.7.7"
  }
 },
 "nbformat": 4,
 "nbformat_minor": 4
}
