{
 "cells": [
  {
   "cell_type": "code",
   "execution_count": 13,
   "metadata": {},
   "outputs": [],
   "source": [
    "import csv\n",
    "\n",
    "temp = 0\n",
    "count = 0\n",
    "total = 0\n",
    "avg_price = 0\n",
    "max_price_date = ''\n",
    "max_price_value = 0\n",
    "min_price_date = ''\n",
    "min_price_value = 0\n",
    "\n",
    "with open(r'Resources/budget_data.csv') as dataFile:\n",
    "    rows = csv.reader(dataFile)\n",
    "    \n",
    "    # skip the first row\n",
    "    next(rows) \n",
    "    \n",
    "    for date, price in rows:        \n",
    "        temp = int(price)          \n",
    "\n",
    "        if temp < min_price_value:\n",
    "            min_price_value = temp\n",
    "            min_price_date = date\n",
    "        \n",
    "        if temp > max_price_value:\n",
    "            max_price_value = temp\n",
    "            max_price_date = date\n",
    "            \n",
    "        total += temp      \n",
    "        count += 1         \n",
    "        avg_price = round((total / count), 2)      "
   ]
  },
  {
   "cell_type": "code",
   "execution_count": 9,
   "metadata": {},
   "outputs": [
    {
     "name": "stdout",
     "output_type": "stream",
     "text": [
      "Financial Analysis\n",
      "----------------------------\n",
      "Total Months: 86\n",
      "Total: $38382578\n",
      "Average  Change: $446309.05\n",
      "Greatest Increase in Profits: Feb-2012 ($1170593)\n",
      "Greatest Decrease in Profits: Sep-2013 ($-1196225)\n"
     ]
    }
   ],
   "source": [
    "print(\"Financial Analysis\")\n",
    "print(\"----------------------------\")\n",
    "print(f\"Total Months: {count}\")\n",
    "print(f\"Total: ${total}\")\n",
    "print(f\"Average  Change: ${avg_price}\")\n",
    "print(f\"Greatest Increase in Profits: {max_price_date} (${max_price_value})\")\n",
    "print(f\"Greatest Decrease in Profits: {min_price_date} (${min_price_value})\")  "
   ]
  },
  {
   "cell_type": "code",
   "execution_count": null,
   "metadata": {},
   "outputs": [],
   "source": []
  }
 ],
 "metadata": {
  "kernelspec": {
   "display_name": "Python 3",
   "language": "python",
   "name": "python3"
  },
  "language_info": {
   "codemirror_mode": {
    "name": "ipython",
    "version": 3
   },
   "file_extension": ".py",
   "mimetype": "text/x-python",
   "name": "python",
   "nbconvert_exporter": "python",
   "pygments_lexer": "ipython3",
   "version": "3.7.7"
  }
 },
 "nbformat": 4,
 "nbformat_minor": 4
}
